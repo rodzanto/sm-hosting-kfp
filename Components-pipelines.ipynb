{
 "cells": [
  {
   "cell_type": "markdown",
   "metadata": {},
   "source": [
    "### Lab #1 - Creating your first pipeline with Amazon SageMaker Components for Kubeflow\n",
    "\n",
    "We can start by upgrading/verifying the installation of the Kubeflow Pipelines SDK in our Jupyter environment.\n",
    "\n",
    "We will also verify that we have available the Domain Specific Language (DSL) compiler for Kubeflow."
   ]
  },
  {
   "cell_type": "code",
   "execution_count": null,
   "metadata": {},
   "outputs": [],
   "source": [
    "!pip install kfp --upgrade\n",
    "!which dsl-compile"
   ]
  },
  {
   "cell_type": "markdown",
   "metadata": {},
   "source": [
    "Next, we will import the Amazon SageMaker and Boto3 SDKs for being able to get the proper roles, and interact with other services like Amazon S3."
   ]
  },
  {
   "cell_type": "code",
   "execution_count": null,
   "metadata": {},
   "outputs": [],
   "source": [
    "import sagemaker\n",
    "import boto3\n",
    "\n",
    "sess = boto3.Session()\n",
    "sm   = sess.client('sagemaker')\n",
    "role = sagemaker.get_execution_role()\n",
    "sagemaker_session = sagemaker.Session(boto_session=sess)\n",
    "\n",
    "bucket_name = sagemaker_session.default_bucket()"
   ]
  },
  {
   "cell_type": "markdown",
   "metadata": {},
   "source": [
    "Now, we will upload to Amazon S3 the dataset that we will use for this example, together with our pre-processing script. Both files are available in our local Jupyter notebook environment."
   ]
  },
  {
   "cell_type": "code",
   "execution_count": null,
   "metadata": {},
   "outputs": [],
   "source": [
    "!aws s3 cp kmeans_preprocessing.py s3://$bucket_name/mnist_kmeans_example/processing_code/kmeans_preprocessing.py\n",
    "!aws s3 cp mnist.pkl.gz s3://$bucket_name/mnist_kmeans_example/mnist.pkl.gz"
   ]
  },
  {
   "cell_type": "markdown",
   "metadata": {},
   "source": [
    "Finally, we will compile our pipeline defined in the Python script in our local Jupyter notebook environment."
   ]
  },
  {
   "cell_type": "code",
   "execution_count": null,
   "metadata": {},
   "outputs": [],
   "source": [
    "!dsl-compile --py mnist-classification-pipeline.py --output mnist-classification-pipeline.tar.gz"
   ]
  },
  {
   "cell_type": "markdown",
   "metadata": {},
   "source": [
    "Now go back to the instructions and continue with the tasks in the Kubeflow Pipeline Dashboard."
   ]
  },
  {
   "cell_type": "markdown",
   "metadata": {},
   "source": [
    "<img src=\"f1.png\" alt=\"pipeline\" width=\"600\"/>"
   ]
  },
  {
   "cell_type": "markdown",
   "metadata": {},
   "source": [
    "### Lab #2 - Exploring Amazon SageMaker Components with Elastic Inference and Multi-Model Endpoints\n",
    "\n",
    "We will now work with a new pipeline for exploring [Amazon Elastic Inference](https://docs.aws.amazon.com/sagemaker/latest/dg/ei.html), and [SageMaker Multi-Model Endpoints](https://docs.aws.amazon.com/sagemaker/latest/dg/multi-model-endpoints.html).\n",
    "\n",
    "WIP..."
   ]
  },
  {
   "cell_type": "code",
   "execution_count": null,
   "metadata": {},
   "outputs": [],
   "source": []
  }
 ],
 "metadata": {
  "kernelspec": {
   "display_name": "conda_python3",
   "language": "python",
   "name": "conda_python3"
  },
  "language_info": {
   "codemirror_mode": {
    "name": "ipython",
    "version": 3
   },
   "file_extension": ".py",
   "mimetype": "text/x-python",
   "name": "python",
   "nbconvert_exporter": "python",
   "pygments_lexer": "ipython3",
   "version": "3.6.10"
  }
 },
 "nbformat": 4,
 "nbformat_minor": 4
}
